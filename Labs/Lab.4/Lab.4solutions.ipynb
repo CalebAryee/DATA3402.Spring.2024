{
 "cells": [
  {
   "cell_type": "markdown",
   "metadata": {},
   "source": [
    "# Lab 4- Object Oriented Programming\n",
    "\n",
    "For all of the exercises below, make sure you provide tests of your solutions.\n"
   ]
  },
  {
   "cell_type": "markdown",
   "metadata": {},
   "source": [
    "1. Write a \"counter\" class that can be incremented up to a specified maximum value, will print an error if an attempt is made to increment beyond that value, and allows reseting the counter. "
   ]
  },
  {
   "cell_type": "code",
   "execution_count": 10,
   "metadata": {},
   "outputs": [],
   "source": [
    "class counter:\n",
    "    def __init__(self, maxValue):\n",
    "        self.maxValue = maxValue\n",
    "        self.counterVal= 0\n",
    "\n",
    "\n",
    "    def val(self):\n",
    "        if self.counterVal < self.maxVal:\n",
    "            self.counterVal += 1\n",
    "            return self.counterVal\n",
    "        else:\n",
    "            print(\"Counter exceeds max value\")\n",
    "            return None\n",
    "\n",
    "    def orig(self):\n",
    "        self.counterVal = 0\n",
    "c=counter"
   ]
  },
  {
   "cell_type": "markdown",
   "metadata": {},
   "source": [
    "2. Copy and paste your solution to question 1 and modify it so that all the data held by the counter is private. Implement functions to check the value of the counter, check the maximum value, and check if the counter is at the maximum."
   ]
  },
  {
   "cell_type": "code",
   "execution_count": 1,
   "metadata": {},
   "outputs": [
    {
     "name": "stdout",
     "output_type": "stream",
     "text": [
      "8\n"
     ]
    }
   ],
   "source": [
    "class counter:\n",
    "    def __init__(self, maxValue):\n",
    "        self.maxValue = maxValue\n",
    "        self.counterVal= 0\n",
    "\n",
    "\n",
    "    def val(self):\n",
    "        if self.counterVal < self.maxValue:\n",
    "            self.counterVal += 1\n",
    "            return self.counterVal\n",
    "        else:\n",
    "            print(\"Counter exceeds max value\")\n",
    "            return None\n",
    "\n",
    "    def orig(self):\n",
    "        self.counterVal = 0\n",
    "    def getcounter(self):\n",
    "        return self.counterVal\n",
    "    def getmax(self):\n",
    "        return self.maxValue\n",
    "c=counter(8)\n",
    "print(c.getmax())\n"
   ]
  },
  {
   "cell_type": "markdown",
   "metadata": {},
   "source": [
    "3. Implement a class to represent a rectangle, holding the length, width, and $x$ and $y$ coordinates of a corner of the object. Implement functions that compute the area and perimeter of the rectangle. Make all data members private and privide accessors to retrieve values of data members. "
   ]
  },
  {
   "cell_type": "code",
   "execution_count": 2,
   "metadata": {},
   "outputs": [
    {
     "name": "stdout",
     "output_type": "stream",
     "text": [
      "801\n"
     ]
    }
   ],
   "source": [
    "import math\n",
    "class rectangle:\n",
    "    x=0\n",
    "    y=0\n",
    "    def __init__(self,width,length,x,y):\n",
    "        self.width=width\n",
    "        self.length=length\n",
    "        self.x=x\n",
    "        self.y=y\n",
    "    def area(self):\n",
    "        return (self.length*self.width)\n",
    "    def Perimeter(self):\n",
    "        return (2*(self.length)+(2*(self.width)))\n",
    "c=rectangle(9,89,0,0)  \n",
    "print(c.area())"
   ]
  },
  {
   "cell_type": "markdown",
   "metadata": {},
   "source": [
    "4. Implement a class to represent a circle, holding the radius and $x$ and $y$ coordinates of center of the object. Implement functions that compute the area and perimeter of the rectangle. Make all data members private and privide accessors to retrieve values of data members. "
   ]
  },
  {
   "cell_type": "code",
   "execution_count": 3,
   "metadata": {},
   "outputs": [
    {
     "name": "stdout",
     "output_type": "stream",
     "text": [
      "56.548667764616276\n"
     ]
    }
   ],
   "source": [
    "import math\n",
    "class circle:\n",
    "    x=0\n",
    "    y=0\n",
    "    def __init__(self,radius,x,y):\n",
    "        self.radius=radius\n",
    "       \n",
    "        self.x=x\n",
    "        self.y=y\n",
    "    def area(self):\n",
    "        return (math.pi*self.radius*self.radius)\n",
    "    def perimeter(self):\n",
    "        return (2*math.pi*self.radius)\n",
    "c=circle(9,0,0)  \n",
    "print(c.perimeter())"
   ]
  },
  {
   "cell_type": "markdown",
   "metadata": {},
   "source": [
    "5. Implement a common base class for the classes implemented in 3 and 4 above which implements all common methods as not implemented functions (virtual). Re-implement your regtangle and circule classes to inherit from the base class and overload the functions accordingly. "
   ]
  },
  {
   "cell_type": "code",
   "execution_count": 36,
   "metadata": {},
   "outputs": [],
   "source": [
    "class Shape:\n",
    "    def area(self):\n",
    "        pass\n",
    "    def perimeter(self):\n",
    "        pass\n",
    "class circle(Shape):\n",
    "    x=0\n",
    "    y=0\n",
    "    def __init__(self,radius,x,y):\n",
    "        self.radius=radius\n",
    "       \n",
    "        self.x=x\n",
    "        self.y=y\n",
    "    def area(self):\n",
    "        return (math.pi*self.radius*self.radius)\n",
    "    def perimeter(self):\n",
    "        return (2*math.pi*self.radius)\n",
    "\n",
    "class rectangle(Shape):\n",
    "    x=0\n",
    "    y=0\n",
    "    def __init__(self,width,length,x,y):\n",
    "        self.width=width\n",
    "        self.length=length\n",
    "        self.x=x\n",
    "        self.y=y\n",
    "    def area(self):\n",
    "        return (self.length*self.width)\n",
    "    def Perimeter(self):\n",
    "        return (2*(self.length)+(2*(self.width)))\n"
   ]
  },
  {
   "cell_type": "markdown",
   "metadata": {},
   "source": [
    "6. Implement a triangle class analogous to the rectangle and circle in question 5."
   ]
  },
  {
   "cell_type": "code",
   "execution_count": 37,
   "metadata": {},
   "outputs": [],
   "source": [
    "class Triangle(Shape):\n",
    "    \n",
    "    def __init__(self, base, height, s1, s2, s3):\n",
    "        self.base = base\n",
    "        self.height = height\n",
    "        self.side1 = s1\n",
    "        self.side2 = s2\n",
    "        self.side3 = s3\n",
    "\n",
    "   \n",
    "    def calculate_area(self):\n",
    "        return 0.5 * self.base * self.height\n",
    "\n",
    "    \n",
    "    def calculate_perimeter(self):\n",
    "        return self.side1 + self.side2 + self.side3"
   ]
  },
  {
   "cell_type": "markdown",
   "metadata": {},
   "source": [
    "7. Add a function to the object classes, including the base, that returns a list of up to 16 pairs of  $x$ and $y$ points on the parameter of the object. "
   ]
  },
  {
   "cell_type": "code",
   "execution_count": 50,
   "metadata": {},
   "outputs": [
    {
     "name": "stdout",
     "output_type": "stream",
     "text": [
      "[(0, 0), (1, 1), (2, 2), (3, 3), (4, 4), (5, 5), (6, 6), (7, 7), (8, 8), (9, 9), (10, 10), (11, 11), (12, 12), (13, 13), (14, 14), (15, 15)]\n"
     ]
    }
   ],
   "source": [
    "class Shape:\n",
    "    def area(self):\n",
    "        pass\n",
    "    def perimeter(self):\n",
    "        pass\n",
    "    def Points(self):   #This is the function for the point\n",
    "        points_list = []\n",
    "        for x in range(16):\n",
    "            for y in range(16):\n",
    "                if x == y:\n",
    "                    point = (x,y)\n",
    "                # add points objects to the list\n",
    "                    points_list.append(point)\n",
    "                \n",
    "        return points_list \n",
    "class circle(Shape):\n",
    "    \n",
    "    def __init__(self,radius,x,y):\n",
    "        self.radius=radius\n",
    "       \n",
    "        self.x=x\n",
    "        self.y=y\n",
    "    def area(self):\n",
    "        return (math.pi*self.radius*self.radius)\n",
    "    def perimeter(self):\n",
    "        return (2*math.pi*self.radius)\n",
    "    \n",
    "c=circle(4,6,7)\n",
    "print(c.Points())\n",
    "class rectangle(Shape):\n",
    "    x=0\n",
    "    y=0\n",
    "    def __init__(self,width,length,x,y):\n",
    "        self.width=width\n",
    "        self.length=length\n",
    "        self.x=x\n",
    "        self.y=y\n",
    "    def area(self):\n",
    "        return (self.length*self.width)\n",
    "    def Perimeter(self):\n",
    "        return (2*(self.length)+(2*(self.width)))\n",
    "\n",
    "class Triangle(Shape):\n",
    "    \n",
    "    def __init__(self, base, height, s1, s2, s3):\n",
    "        self.base = base\n",
    "        self.height = height\n",
    "        self.side1 = s1\n",
    "        self.side2 = s2\n",
    "        self.side3 = s3\n",
    "\n",
    "   \n",
    "    def calculate_area(self):\n",
    "        return 0.5 * self.base * self.height\n",
    "\n",
    "    \n",
    "    def calculate_perimeter(self):\n",
    "        return self.side1 + self.side2 + self.side3\n"
   ]
  },
  {
   "cell_type": "markdown",
   "metadata": {},
   "source": [
    "8. Add a function to the object classes, including the base, that tests if a given set of $x$ and $y$ coordinates are inside of the object. You'll have to think through how to determine if a set of coordinates are inside an object for each object type."
   ]
  },
  {
   "cell_type": "code",
   "execution_count": 15,
   "metadata": {},
   "outputs": [
    {
     "name": "stdout",
     "output_type": "stream",
     "text": [
      "[(0, 0), (1, 1), (2, 2), (3, 3), (4, 4), (5, 5), (6, 6), (7, 7), (8, 8), (9, 9), (10, 10), (11, 11), (12, 12), (13, 13), (14, 14), (15, 15)]\n",
      "False\n",
      "False\n"
     ]
    }
   ],
   "source": [
    "class Shape:\n",
    "    def area(self):\n",
    "        pass\n",
    "    def perimeter(self):\n",
    "        pass\n",
    "    def Points(self):   #This is the function for the point\n",
    "        points_list = []\n",
    "        for x in range(16):\n",
    "            for y in range(16):\n",
    "                if x == y:\n",
    "                    point = (x,y)\n",
    "                # add points objects to the list\n",
    "                    points_list.append(point)\n",
    "                \n",
    "        return points_list \n",
    "    \n",
    "\n",
    "class circle(Shape):\n",
    "    \n",
    "    def __init__(self,radius,x,y):\n",
    "        self.radius=radius\n",
    "       \n",
    "        self.x=x\n",
    "        self.y=y\n",
    "    def area(self):\n",
    "        return (math.pi*self.radius*self.radius)\n",
    "    def perimeter(self):\n",
    "        return (2*math.pi*self.radius)\n",
    "    def inshape(self,x,y):\n",
    "        if x<= self.x and x >= self.x + self.radius and y >= self.y and y <= self.y + self.radius:\n",
    "\n",
    "            return True\n",
    "\n",
    "        else:\n",
    "\n",
    "            return False        \n",
    "\n",
    "c=circle(4,6,7)\n",
    "print(c.Points())\n",
    "class rectangle(Shape):\n",
    "    x=0\n",
    "    y=0\n",
    "    def __init__(self,width,length,x,y):\n",
    "        self.width=width\n",
    "        self.length=length\n",
    "        self.x=x\n",
    "        self.y=y\n",
    "    def area(self):\n",
    "        return (self.length*self.width)\n",
    "    def Perimeter(self):\n",
    "        return (2*(self.length)+(2*(self.width)))\n",
    "    def inshape(self,x,y):\n",
    "        if x<= self.x and x >= self.x + self.width and y >= self.y and y <= self.y + self.length:\n",
    "\n",
    "            return True\n",
    "\n",
    "        else:\n",
    "\n",
    "            return False\n",
    "class Triangle(Shape):\n",
    "    \n",
    "    def __init__(self, base, height, s1, s2, s3):\n",
    "        self.base = base\n",
    "        self.height = height\n",
    "        self.side1 = s1\n",
    "        self.side2 = s2\n",
    "        self.side3 = s3\n",
    "\n",
    "   \n",
    "    def calculate_area(self):\n",
    "        return 0.5 * self.base * self.height\n",
    "\n",
    "    \n",
    "    def calculate_perimeter(self):\n",
    "        return self.side1 + self.side2 + self.side3\n",
    "    def inshape(self,x,y):\n",
    "        if x<= self.x and x >= self.x + self.width and y >= self.y and y <= self.y + self.length:\n",
    "\n",
    "            return True\n",
    "\n",
    "        else:\n",
    "\n",
    "            return False\n",
    "c=rectangle(10,30,15,25)\n",
    "print(c.inshape(7,5))\n",
    "d=circle(10,15,25)\n",
    "print(c.inshape(7,5))"
   ]
  },
  {
   "cell_type": "markdown",
   "metadata": {},
   "source": [
    "9. Add a function in the base class of the object classes that returns true/false testing that the object overlaps with another object."
   ]
  },
  {
   "cell_type": "code",
   "execution_count": null,
   "metadata": {},
   "outputs": [],
   "source": []
  },
  {
   "cell_type": "markdown",
   "metadata": {},
   "source": [
    "10. Copy the `Canvas` class from lecture to in a python file creating a `paint` module. Copy your classes from above into the module and implement paint functions. Implement a `CompoundShape` class. Create a simple drawing demonstrating that all of your classes are working."
   ]
  },
  {
   "cell_type": "code",
   "execution_count": null,
   "metadata": {},
   "outputs": [],
   "source": [
    "class Canvas:\n",
    "    def __init__(self, width, height):\n",
    "        self.width = width\n",
    "        self.height = height\n",
    "        self.data = [[' '] * width for i in range(height)]\n",
    "\n",
    "    def set_pixel(self, row, col, char='*'):\n",
    "        self.data[row][col] = char\n",
    "\n",
    "    def get_pixel(self, row, col):\n",
    "        return self.data[row][col]\n",
    "    \n",
    "    def clear_canvas(self):\n",
    "        self.data = [[' '] * self.width for i in range(self.height)]\n",
    "    \n",
    "    def v_line(self, x, y, w, **kargs):\n",
    "        for i in range(x,x+w):\n",
    "            self.set_pixel(i,y, **kargs)\n",
    "\n",
    "    def h_line(self, x, y, h, **kargs):\n",
    "        for i in range(y,y+h):\n",
    "            self.set_pixel(x,i, **kargs)\n",
    "            \n",
    "    def line(self, x1, y1, x2, y2, **kargs):\n",
    "        slope = (y2-y1) / (x2-x1)\n",
    "        for y in range(y1,y2):\n",
    "            x= int(slope * y)\n",
    "            self.set_pixel(x,y, **kargs)\n",
    "            \n",
    "    def display(self):\n",
    "        print(\"\\n\".join([\"\".join(row) for row in self.data]))\n",
    "class Shape(Canvas):\n",
    "    def area(self):\n",
    "        pass\n",
    "    def perimeter(self):\n",
    "        pass\n",
    "    def Points(self):   #This is the function for the point\n",
    "        points_list = []\n",
    "        for x in range(16):\n",
    "            for y in range(16):\n",
    "                if x == y:\n",
    "                    point = (x,y)\n",
    "                # add points objects to the list\n",
    "                    points_list.append(point)\n",
    "                \n",
    "        return points_list \n",
    "    \n",
    "\n",
    "class circle(Shape):\n",
    "    \n",
    "    def __init__(self,radius,x,y):\n",
    "        self.radius=radius\n",
    "       \n",
    "        self.x=x\n",
    "        self.y=y\n",
    "    def area(self):\n",
    "        return (math.pi*self.radius*self.radius)\n",
    "    def perimeter(self):\n",
    "        return (2*math.pi*self.radius)\n",
    "    def inshape(self,x,y):\n",
    "        if x<= self.x and x >= self.x + self.radius and y >= self.y and y <= self.y + self.radius:\n",
    "\n",
    "            return True\n",
    "\n",
    "        else:\n",
    "\n",
    "            return False        \n",
    "\n",
    "c=circle(4,6,7)\n",
    "print(c.Points())\n",
    "class rectangle(Shape):\n",
    "    x=0\n",
    "    y=0\n",
    "    def __init__(self,width,length,x,y):\n",
    "        self.width=width\n",
    "        self.length=length\n",
    "        self.x=x\n",
    "        self.y=y\n",
    "    def area(self):\n",
    "        return (self.length*self.width)\n",
    "    def Perimeter(self):\n",
    "        return (2*(self.length)+(2*(self.width)))\n",
    "    def inshape(self,x,y):\n",
    "        if x<= self.x and x >= self.x + self.width and y >= self.y and y <= self.y + self.length:\n",
    "\n",
    "            return True\n",
    "\n",
    "        else:\n",
    "\n",
    "            return False\n",
    "class Triangle(Shape):\n",
    "    \n",
    "    def __init__(self, base, height, s1, s2, s3):\n",
    "        self.base = base\n",
    "        self.height = height\n",
    "        self.side1 = s1\n",
    "        self.side2 = s2\n",
    "        self.side3 = s3\n",
    "\n",
    "   \n",
    "    def calculate_area(self):\n",
    "        return 0.5 * self.base * self.height\n",
    "\n",
    "    \n",
    "    def calculate_perimeter(self):\n",
    "        return self.side1 + self.side2 + self.side3\n",
    "    def inshape(self,x,y):\n",
    "        if x<= self.x and x >= self.x + self.width and y >= self.y and y <= self.y + self.length:\n",
    "\n",
    "            return True\n",
    "\n",
    "        else:\n",
    "\n",
    "            return False\n"
   ]
  },
  {
   "cell_type": "markdown",
   "metadata": {},
   "source": [
    "11. Create a `RasterDrawing` class. Demonstrate that you can create a drawing made of several shapes, paint the drawing, modify the drawing, and paint it again. "
   ]
  },
  {
   "cell_type": "code",
   "execution_count": null,
   "metadata": {},
   "outputs": [],
   "source": []
  },
  {
   "cell_type": "markdown",
   "metadata": {},
   "source": [
    "12. Implement the ability to load/save raster drawings and demonstate that your method works. One way to implement this ability:\n",
    "\n",
    "   * Overload `__repr__` functions of all objects to return strings of the python code that would construct the object.\n",
    "   \n",
    "   * In the save method of raster drawing class, store the representations into the file.\n",
    "   * Write a loader function that reads the file and uses `eval` to instantiate the object.\n",
    "\n",
    "For example:"
   ]
  },
  {
   "cell_type": "code",
   "execution_count": 1,
   "metadata": {},
   "outputs": [],
   "source": [
    "class foo:\n",
    "    def __init__(self,a,b=None):\n",
    "        self.a=a\n",
    "        self.b=b\n",
    "        \n",
    "    def __repr__(self):\n",
    "        return \"foo(\"+repr(self.a)+\",\"+repr(self.b)+\")\"\n",
    "    \n",
    "    def save(self,filename):\n",
    "        f=open(filename,\"w\")\n",
    "        f.write(self.__repr__())\n",
    "        f.close()\n",
    "        \n",
    "   \n",
    "def foo_loader(filename):\n",
    "    f=open(filename,\"r\")\n",
    "    tmp=eval(f.read())\n",
    "    f.close()\n",
    "    return tmp\n"
   ]
  },
  {
   "cell_type": "code",
   "execution_count": 2,
   "metadata": {},
   "outputs": [
    {
     "name": "stdout",
     "output_type": "stream",
     "text": [
      "foo(1,'hello')\n"
     ]
    }
   ],
   "source": [
    "# Test\n",
    "print(repr(foo(1,\"hello\")))"
   ]
  },
  {
   "cell_type": "code",
   "execution_count": 3,
   "metadata": {},
   "outputs": [],
   "source": [
    "# Create an object and save it\n",
    "ff=foo(1,\"hello\")\n",
    "ff.save(\"Test.foo\")"
   ]
  },
  {
   "cell_type": "code",
   "execution_count": 4,
   "metadata": {},
   "outputs": [
    {
     "name": "stdout",
     "output_type": "stream",
     "text": [
      "foo(1,'hello')"
     ]
    }
   ],
   "source": [
    "# Check contents of the saved file\n",
    "!cat Test.foo"
   ]
  },
  {
   "cell_type": "code",
   "execution_count": 5,
   "metadata": {},
   "outputs": [
    {
     "data": {
      "text/plain": [
       "foo(1,'hello')"
      ]
     },
     "execution_count": 5,
     "metadata": {},
     "output_type": "execute_result"
    }
   ],
   "source": [
    "# Load the object\n",
    "ff_reloaded=foo_loader(\"Test.foo\")\n",
    "ff_reloaded"
   ]
  },
  {
   "cell_type": "code",
   "execution_count": null,
   "metadata": {},
   "outputs": [],
   "source": []
  },
  {
   "cell_type": "code",
   "execution_count": null,
   "metadata": {},
   "outputs": [],
   "source": []
  }
 ],
 "metadata": {
  "kernelspec": {
   "display_name": "Python 3 (ipykernel)",
   "language": "python",
   "name": "python3"
  },
  "language_info": {
   "codemirror_mode": {
    "name": "ipython",
    "version": 3
   },
   "file_extension": ".py",
   "mimetype": "text/x-python",
   "name": "python",
   "nbconvert_exporter": "python",
   "pygments_lexer": "ipython3",
   "version": "3.12.1"
  }
 },
 "nbformat": 4,
 "nbformat_minor": 4
}
