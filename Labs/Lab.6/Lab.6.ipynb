{
 "cells": [
  {
   "cell_type": "markdown",
   "metadata": {},
   "source": [
    "# Lab 5"
   ]
  },
  {
   "cell_type": "markdown",
   "metadata": {},
   "source": [
    "You are tasked with evaluating card counting strategies for black jack. In order to do so, you will use object oriented programming to create a playable casino style black jack game where a computer dealer plays against $n$ computer players and possibily one human player. If you don't know the rules of blackjack or card counting, please google it. \n",
    "\n",
    "A few requirements:\n",
    "* The game should utilize multiple 52-card decks. Typically the game is played with 6 decks.\n",
    "* Players should have chips.\n",
    "* Dealer's actions are predefined by rules of the game (typically hit on 16). \n",
    "* The players should be aware of all shown cards so that they can count cards.\n",
    "* Each player could have a different strategy.\n",
    "* The system should allow you to play large numbers of games, study the outcomes, and compare average winnings per hand rate for different strategies."
   ]
  },
  {
   "cell_type": "markdown",
   "metadata": {},
   "source": [
    "1. Begin by creating a classes to represent cards and decks. The deck should support more than one 52-card set. The deck should allow you to shuffle and draw cards. Include a \"plastic\" card, placed randomly in the deck. Later, when the plastic card is dealt, shuffle the cards before the next deal."
   ]
  },
  {
   "cell_type": "markdown",
   "metadata": {},
   "source": [
    "2. Now design your game on a UML diagram. You may want to create classes to represent, players, a hand, and/or the game. As you work through the lab, update your UML diagram. At the end of the lab, submit your diagram (as pdf file) along with your notebook. "
   ]
  },
  {
   "cell_type": "markdown",
   "metadata": {},
   "source": [
    "3. Begin with implementing the skeleton (ie define data members and methods/functions, but do not code the logic) of the classes in your UML diagram."
   ]
  },
  {
   "cell_type": "markdown",
   "metadata": {},
   "source": [
    "4. Complete the implementation by coding the logic of all functions. For now, just implement the dealer player and human player."
   ]
  },
  {
   "cell_type": "markdown",
   "metadata": {},
   "source": [
    "5.  Test. Demonstrate game play. For example, create a game of several dealer players and show that the game is functional through several rounds."
   ]
  },
  {
   "cell_type": "markdown",
   "metadata": {},
   "source": [
    "6. Implement a new player with the following strategy:\n",
    "\n",
    "    * Assign each card a value: \n",
    "        * Cards 2 to 6 are +1 \n",
    "        * Cards 7 to 9 are 0 \n",
    "        * Cards 10 through Ace are -1\n",
    "    * Compute the sum of the values for all cards seen so far.\n",
    "    * Hit if sum is very negative, stay if sum is very positive. Select a threshold for hit/stay, e.g. 0 or -2.  "
   ]
  },
  {
   "cell_type": "markdown",
   "metadata": {},
   "source": [
    "7. Create a test scenario where one player, using the above strategy, is playing with a dealer and 3 other players that follow the dealer's strategy. Each player starts with same number of chips. Play 50 rounds (or until the strategy player is out of money). Compute the strategy player's winnings. You may remove unnecessary printouts from your code (perhaps implement a verbose/quiet mode) to reduce the output."
   ]
  },
  {
   "cell_type": "markdown",
   "metadata": {},
   "source": [
    "8. Create a loop that runs 100 games of 50 rounds, as setup in previous question, and store the strategy player's chips at the end of the game (aka \"winnings\") in a list. Histogram the winnings. What is the average winnings per round? What is the standard deviation. What is the probabilty of net winning or lossing after 50 rounds?\n"
   ]
  },
  {
   "cell_type": "markdown",
   "metadata": {},
   "source": [
    "9. Repeat previous questions scanning the value of the threshold. Try at least 5 different threshold values. Can you find an optimal value?"
   ]
  },
  {
   "cell_type": "markdown",
   "metadata": {},
   "source": [
    "10. Create a new strategy based on web searches or your own ideas. Demonstrate that the new strategy will result in increased or decreased winnings. "
   ]
  },
  {
   "cell_type": "code",
   "execution_count": 1,
   "metadata": {},
   "outputs": [],
   "source": [
    "import random\n"
   ]
  },
  {
   "cell_type": "code",
   "execution_count": null,
   "metadata": {},
   "outputs": [],
   "source": [
    "class Card:\n",
    "  def __init__(self, suit, rank):\n",
    "    self.suit = suit\n",
    "    self.rank = rank\n",
    "\n",
    "  def value(self):\n",
    "    if self.rank in ['10', 'J', 'Q', 'K']:\n",
    "      return 10\n",
    "    elif self.rank == 'A':\n",
    "      return 11\n",
    "    else:\n",
    "      return int(self.rank)\n",
    "\n",
    "  def __str__(self):\n",
    "    return f\"{self.rank}{self.suit}\"\n",
    "\n",
    "class Deck:\n",
    "  def __init__(self, num_decks=6):\n",
    "    suits = ['♠', '♥', '♦', '♣']\n",
    "    ranks = ['2', '3', '4', '5', '6', '7', '8', '9', '10', 'J', 'Q', 'K', 'A']\n",
    "    self.cards = [Card(suit, rank) for _ in range(num_decks) for suit in suits for rank in ranks]\n",
    "    random.shuffle(self.cards)\n",
    "    self.plastic_card_position = random.randint(15, 30) # Random position for the plastic card\n",
    "\n",
    "  def draw(self):\n",
    "    if len(self.cards) < self.plastic_card_position:\n",
    "      random.shuffle(self.cards)\n",
    "    return self.cards.pop()\n",
    "\n",
    "class Player:\n",
    "  def __init__(self, name, chips):\n",
    "    self.name = name\n",
    "    self.chips = chips\n",
    "    self.hand = []\n",
    "\n",
    "  def bet(self, amount):\n",
    "    if amount <= self.chips:\n",
    "      self.chips -= amount\n",
    "      return amount\n",
    "    else:\n",
    "      return 0\n",
    "\n",
    "  def win(self, amount):\n",
    "    self.chips += amount\n",
    "\n",
    "  def add_card(self, card):\n",
    "    self.hand.append(card)\n",
    "\n",
    "  def clear_hand(self):\n",
    "    self.hand = []\n",
    "\n",
    "class BlackjackGame:\n",
    "  def __init__(self, num_decks=6):\n",
    "    self.deck = Deck(num_decks)\n",
    "    self.players = []\n",
    "\n",
    "  def add_player(self, player):\n",
    "    self.players.append(player)\n",
    "\n",
    "  def deal_initial_cards(self):\n",
    "    for player in self.players:\n",
    "      player.add_card(self.deck.draw())\n",
    "      player.add_card(self.deck.draw())\n",
    "\n",
    "    # Deal one card face down to the dealer\n",
    "    self.dealer_hand = [self.deck.draw(), None]\n",
    "\n",
    "  def play_round(self):\n",
    "    for player in self.players:\n",
    "      while player_strategy(player, self.dealer_hand) == 'hit':\n",
    "        player.add_card(self.deck.draw())\n",
    "\n",
    "    # Reveal dealer's hole card\n",
    "    self.dealer_hand[1] = self.deck.draw()\n",
    "\n",
    "    # Dealer plays until hand value is at least 17\n",
    "    self.dealer_play()\n",
    "\n",
    "    # Determine winner for each player\n",
    "    for player in self.players:\n",
    "      determine_winner(player, self.dealer_hand)\n",
    "\n",
    "  def dealer_play(self):\n",
    "    while calculate_hand_value(self.dealer_hand) < 17:\n",
    "      self.dealer_hand.append(self.deck.draw())\n",
    "\n",
    "def player_strategy(player, dealer_hand):\n",
    "  # Implement your own player strategy here\n",
    "  # Return 'hit' or 'stand' based on the player's strategy\n",
    "  pass\n",
    "\n",
    "def calculate_hand_value(hand):\n",
    "  value = sum(card.value() for card in hand)\n",
    "  aces = sum(1 for card in hand if card.rank == 'A')\n",
    "  while value > 21 and aces:\n",
    "    value -= 10\n",
    "    aces -= 1\n",
    "  return value\n",
    "\n",
    "def determine_winner(player, dealer_hand):\n",
    "  player_value = calculate_hand_value(player.hand)\n",
    "  dealer_value = calculate_hand_value(dealer_hand)\n",
    "\n",
    "  if player_value > 21:\n",
    "    return \"Dealer\"\n",
    "  elif dealer_value > 21 or player_value > dealer_value:"
   ]
  }
 ],
 "metadata": {
  "kernelspec": {
   "display_name": "Python 3 (ipykernel)",
   "language": "python",
   "name": "python3"
  },
  "language_info": {
   "codemirror_mode": {
    "name": "ipython",
    "version": 3
   },
   "file_extension": ".py",
   "mimetype": "text/x-python",
   "name": "python",
   "nbconvert_exporter": "python",
   "pygments_lexer": "ipython3",
   "version": "3.12.1"
  }
 },
 "nbformat": 4,
 "nbformat_minor": 4
}
